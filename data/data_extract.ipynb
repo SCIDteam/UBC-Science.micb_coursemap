{
 "cells": [
  {
   "cell_type": "code",
   "execution_count": 1,
   "metadata": {},
   "outputs": [],
   "source": [
    "import json\n",
    "import pandas as pd"
   ]
  },
  {
   "cell_type": "code",
   "execution_count": 2,
   "metadata": {},
   "outputs": [
    {
     "data": {
      "text/plain": [
       "{'course_code': 'ANAT 392',\n",
       " 'course_title': 'Gross Anatomy of the Limbs and Trunk',\n",
       " 'description': 'Lectures and laboratory sessions on the human gross and functional anatomy of the limbs and trunk. The course includes the study of predissected specimens. For credit only in the Department of Physical Therapy.',\n",
       " 'prerequisites': [],\n",
       " 'corequisites': [],\n",
       " 'themes': []}"
      ]
     },
     "execution_count": 2,
     "metadata": {},
     "output_type": "execute_result"
    }
   ],
   "source": [
    "with open('all_courses_py.json', 'r') as file:\n",
    "    all_courses = json.load(file)\n",
    "\n",
    "all_courses[0]"
   ]
  },
  {
   "cell_type": "code",
   "execution_count": 3,
   "metadata": {},
   "outputs": [],
   "source": [
    "def gather_courses(course_code, all_courses, collected_courses=None):\n",
    "    if collected_courses is None:\n",
    "        collected_courses = set()\n",
    "    \n",
    "    for course in all_courses:\n",
    "        if course['course_code'] == course_code and course_code not in collected_courses:\n",
    "            collected_courses.add(course_code)\n",
    "            \n",
    "            # Gather prerequisites\n",
    "            for prereq in course['prerequisites']:\n",
    "                gather_courses(prereq, all_courses, collected_courses)\n",
    "            \n",
    "            # Gather corequisites\n",
    "            for coreq in course['corequisites']:\n",
    "                gather_courses(coreq, all_courses, collected_courses)\n",
    "    \n",
    "    return collected_courses\n",
    "\n",
    "micb_courses = []\n",
    "for course in all_courses:\n",
    "    if course['course_code'].startswith('MICB'):\n",
    "        course_codes = gather_courses(course['course_code'], all_courses)\n",
    "        for code in course_codes:\n",
    "            course_obj = next((c for c in all_courses if c['course_code'] == code), None)\n",
    "            if course_obj and course_obj not in micb_courses:\n",
    "                micb_courses.append(course_obj)"
   ]
  },
  {
   "cell_type": "code",
   "execution_count": 4,
   "metadata": {},
   "outputs": [
    {
     "data": {
      "text/plain": [
       "[{'course_code': 'CHEM 100',\n",
       "  'course_title': 'Foundations of Chemistry',\n",
       "  'description': 'Atomic and molecular properties, chemical reactions, bonding, nomenclature, kinetics, equilibrium processes, acids and bases, oxidation and reduction.  Intended for students who do not receive a satisfactory score on the UBC Chemistry Basic Skills Test, and need to establish a foundation of chemistry skills before proceeding to other first year chemistry courses. This course is not eligible for Credit/D/Fail grading. [3-0-1] Prerequisite: Not open to students with credit for Chemistry 12.  Permission of the department head.',\n",
       "  'prerequisites': [],\n",
       "  'corequisites': [],\n",
       "  'themes': []},\n",
       " {'course_code': 'BIOL 111',\n",
       "  'course_title': 'Introduction to Modern Biology',\n",
       "  'description': 'Concepts fundamental to biological issues, such as the genetic basis of biological variation, evolution, infectious diseases, causes of cancer, population growth, and human effects on ecosystems.  Not open to students who have credit for Biology 12 (including AP, IB). [3-0-0]',\n",
       "  'prerequisites': [],\n",
       "  'corequisites': [],\n",
       "  'themes': []}]"
      ]
     },
     "execution_count": 4,
     "metadata": {},
     "output_type": "execute_result"
    }
   ],
   "source": [
    "micb_courses[:2]"
   ]
  },
  {
   "cell_type": "code",
   "execution_count": 5,
   "metadata": {},
   "outputs": [],
   "source": [
    "with open(\"micb_courses_dependancies_draft.json\", \"w\") as file:\n",
    "    json.dump(micb_courses, file, indent=4)"
   ]
  },
  {
   "cell_type": "markdown",
   "metadata": {},
   "source": [
    "### Extracting Lecture/Lab"
   ]
  },
  {
   "cell_type": "code",
   "execution_count": 6,
   "metadata": {},
   "outputs": [
    {
     "data": {
      "text/html": [
       "<div>\n",
       "<style scoped>\n",
       "    .dataframe tbody tr th:only-of-type {\n",
       "        vertical-align: middle;\n",
       "    }\n",
       "\n",
       "    .dataframe tbody tr th {\n",
       "        vertical-align: top;\n",
       "    }\n",
       "\n",
       "    .dataframe thead th {\n",
       "        text-align: right;\n",
       "    }\n",
       "</style>\n",
       "<table border=\"1\" class=\"dataframe\">\n",
       "  <thead>\n",
       "    <tr style=\"text-align: right;\">\n",
       "      <th></th>\n",
       "      <th>Course_Code</th>\n",
       "      <th>Data Science</th>\n",
       "      <th>Microbiology</th>\n",
       "      <th>Virology</th>\n",
       "      <th>Immunology</th>\n",
       "      <th>Science and Society</th>\n",
       "      <th>Climate</th>\n",
       "      <th>Human Health</th>\n",
       "      <th>Lecture</th>\n",
       "      <th>Lab Course</th>\n",
       "      <th>Notes</th>\n",
       "    </tr>\n",
       "  </thead>\n",
       "  <tbody>\n",
       "    <tr>\n",
       "      <th>0</th>\n",
       "      <td>MICB_V 203</td>\n",
       "      <td>NaN</td>\n",
       "      <td>X</td>\n",
       "      <td>NaN</td>\n",
       "      <td>NaN</td>\n",
       "      <td>NaN</td>\n",
       "      <td>NaN</td>\n",
       "      <td>NaN</td>\n",
       "      <td>NaN</td>\n",
       "      <td>X</td>\n",
       "      <td>doesn't currently run</td>\n",
       "    </tr>\n",
       "    <tr>\n",
       "      <th>1</th>\n",
       "      <td>MICB_V 205</td>\n",
       "      <td>X</td>\n",
       "      <td>X</td>\n",
       "      <td>X</td>\n",
       "      <td>X</td>\n",
       "      <td>NaN</td>\n",
       "      <td>NaN</td>\n",
       "      <td>NaN</td>\n",
       "      <td>X</td>\n",
       "      <td>NaN</td>\n",
       "      <td>NaN</td>\n",
       "    </tr>\n",
       "    <tr>\n",
       "      <th>2</th>\n",
       "      <td>MICB_V 211</td>\n",
       "      <td>NaN</td>\n",
       "      <td>X</td>\n",
       "      <td>NaN</td>\n",
       "      <td>NaN</td>\n",
       "      <td>NaN</td>\n",
       "      <td>X</td>\n",
       "      <td>NaN</td>\n",
       "      <td>X</td>\n",
       "      <td>NaN</td>\n",
       "      <td>NaN</td>\n",
       "    </tr>\n",
       "  </tbody>\n",
       "</table>\n",
       "</div>"
      ],
      "text/plain": [
       "  Course_Code Data Science Microbiology Virology Immunology  \\\n",
       "0  MICB_V 203          NaN            X      NaN        NaN   \n",
       "1  MICB_V 205            X            X        X          X   \n",
       "2  MICB_V 211          NaN            X      NaN        NaN   \n",
       "\n",
       "  Science and Society Climate Human Health Lecture Lab Course  \\\n",
       "0                 NaN     NaN          NaN     NaN          X   \n",
       "1                 NaN     NaN          NaN       X        NaN   \n",
       "2                 NaN       X          NaN       X        NaN   \n",
       "\n",
       "                   Notes  \n",
       "0  doesn't currently run  \n",
       "1                    NaN  \n",
       "2                    NaN  "
      ]
     },
     "execution_count": 6,
     "metadata": {},
     "output_type": "execute_result"
    }
   ],
   "source": [
    "themes = pd.read_csv(\"micb_themes.csv\")\n",
    "themes.head(3)"
   ]
  },
  {
   "cell_type": "code",
   "execution_count": 7,
   "metadata": {},
   "outputs": [
    {
     "data": {
      "text/html": [
       "<div>\n",
       "<style scoped>\n",
       "    .dataframe tbody tr th:only-of-type {\n",
       "        vertical-align: middle;\n",
       "    }\n",
       "\n",
       "    .dataframe tbody tr th {\n",
       "        vertical-align: top;\n",
       "    }\n",
       "\n",
       "    .dataframe thead th {\n",
       "        text-align: right;\n",
       "    }\n",
       "</style>\n",
       "<table border=\"1\" class=\"dataframe\">\n",
       "  <thead>\n",
       "    <tr style=\"text-align: right;\">\n",
       "      <th></th>\n",
       "      <th>Data Science</th>\n",
       "      <th>Microbiology</th>\n",
       "      <th>Virology</th>\n",
       "      <th>Immunology</th>\n",
       "      <th>Science and Society</th>\n",
       "      <th>Climate</th>\n",
       "      <th>Human Health</th>\n",
       "      <th>Lecture</th>\n",
       "      <th>Lab Course</th>\n",
       "      <th>Notes</th>\n",
       "      <th>course_code</th>\n",
       "    </tr>\n",
       "  </thead>\n",
       "  <tbody>\n",
       "    <tr>\n",
       "      <th>0</th>\n",
       "      <td>NaN</td>\n",
       "      <td>X</td>\n",
       "      <td>NaN</td>\n",
       "      <td>NaN</td>\n",
       "      <td>NaN</td>\n",
       "      <td>NaN</td>\n",
       "      <td>NaN</td>\n",
       "      <td>NaN</td>\n",
       "      <td>X</td>\n",
       "      <td>doesn't currently run</td>\n",
       "      <td>MICB 203</td>\n",
       "    </tr>\n",
       "    <tr>\n",
       "      <th>1</th>\n",
       "      <td>X</td>\n",
       "      <td>X</td>\n",
       "      <td>X</td>\n",
       "      <td>X</td>\n",
       "      <td>NaN</td>\n",
       "      <td>NaN</td>\n",
       "      <td>NaN</td>\n",
       "      <td>X</td>\n",
       "      <td>NaN</td>\n",
       "      <td>NaN</td>\n",
       "      <td>MICB 205</td>\n",
       "    </tr>\n",
       "    <tr>\n",
       "      <th>2</th>\n",
       "      <td>NaN</td>\n",
       "      <td>X</td>\n",
       "      <td>NaN</td>\n",
       "      <td>NaN</td>\n",
       "      <td>NaN</td>\n",
       "      <td>X</td>\n",
       "      <td>NaN</td>\n",
       "      <td>X</td>\n",
       "      <td>NaN</td>\n",
       "      <td>NaN</td>\n",
       "      <td>MICB 211</td>\n",
       "    </tr>\n",
       "  </tbody>\n",
       "</table>\n",
       "</div>"
      ],
      "text/plain": [
       "  Data Science Microbiology Virology Immunology Science and Society Climate  \\\n",
       "0          NaN            X      NaN        NaN                 NaN     NaN   \n",
       "1            X            X        X          X                 NaN     NaN   \n",
       "2          NaN            X      NaN        NaN                 NaN       X   \n",
       "\n",
       "  Human Health Lecture Lab Course                  Notes course_code  \n",
       "0          NaN     NaN          X  doesn't currently run    MICB 203  \n",
       "1          NaN       X        NaN                    NaN    MICB 205  \n",
       "2          NaN       X        NaN                    NaN    MICB 211  "
      ]
     },
     "execution_count": 7,
     "metadata": {},
     "output_type": "execute_result"
    }
   ],
   "source": [
    "themes['course_code'] = themes['Course_Code'].str.replace('_V', '')\n",
    "themes.drop(columns='Course_Code', inplace=True)\n",
    "themes.head(3)"
   ]
  },
  {
   "cell_type": "code",
   "execution_count": 8,
   "metadata": {},
   "outputs": [
    {
     "data": {
      "text/html": [
       "<div>\n",
       "<style scoped>\n",
       "    .dataframe tbody tr th:only-of-type {\n",
       "        vertical-align: middle;\n",
       "    }\n",
       "\n",
       "    .dataframe tbody tr th {\n",
       "        vertical-align: top;\n",
       "    }\n",
       "\n",
       "    .dataframe thead th {\n",
       "        text-align: right;\n",
       "    }\n",
       "</style>\n",
       "<table border=\"1\" class=\"dataframe\">\n",
       "  <thead>\n",
       "    <tr style=\"text-align: right;\">\n",
       "      <th></th>\n",
       "      <th>course_code</th>\n",
       "      <th>themes</th>\n",
       "      <th>lab/lecture</th>\n",
       "    </tr>\n",
       "  </thead>\n",
       "  <tbody>\n",
       "    <tr>\n",
       "      <th>0</th>\n",
       "      <td>MICB 203</td>\n",
       "      <td>[Microbiology]</td>\n",
       "      <td>Lab</td>\n",
       "    </tr>\n",
       "    <tr>\n",
       "      <th>1</th>\n",
       "      <td>MICB 205</td>\n",
       "      <td>[Data Science, Microbiology, Virology, Immunol...</td>\n",
       "      <td>Lecture</td>\n",
       "    </tr>\n",
       "    <tr>\n",
       "      <th>2</th>\n",
       "      <td>MICB 211</td>\n",
       "      <td>[Microbiology, Climate]</td>\n",
       "      <td>Lecture</td>\n",
       "    </tr>\n",
       "  </tbody>\n",
       "</table>\n",
       "</div>"
      ],
      "text/plain": [
       "  course_code                                             themes lab/lecture\n",
       "0    MICB 203                                     [Microbiology]         Lab\n",
       "1    MICB 205  [Data Science, Microbiology, Virology, Immunol...     Lecture\n",
       "2    MICB 211                            [Microbiology, Climate]     Lecture"
      ]
     },
     "execution_count": 8,
     "metadata": {},
     "output_type": "execute_result"
    }
   ],
   "source": [
    "theme_columns = ['Data Science', 'Microbiology', 'Virology', 'Immunology', 'Science and Society', 'Climate', 'Human Health']\n",
    "themes['themes'] = themes[theme_columns].apply(lambda row: [col for col, value in row.items() if value == 'X'], axis=1)\n",
    "themes['lab/lecture'] = themes.apply(lambda row: 'Lab' if row['Lab Course'] == 'X' else ('Lecture' if row['Lecture'] == 'X' else None), axis=1)\n",
    "\n",
    "micb_themes = themes[['course_code', 'themes', 'lab/lecture']]\n",
    "micb_themes.head(3)"
   ]
  },
  {
   "cell_type": "code",
   "execution_count": 9,
   "metadata": {},
   "outputs": [
    {
     "data": {
      "text/plain": [
       "[{'course_code': 'CHEM 100',\n",
       "  'course_title': 'Foundations of Chemistry',\n",
       "  'description': 'Atomic and molecular properties, chemical reactions, bonding, nomenclature, kinetics, equilibrium processes, acids and bases, oxidation and reduction.  Intended for students who do not receive a satisfactory score on the UBC Chemistry Basic Skills Test, and need to establish a foundation of chemistry skills before proceeding to other first year chemistry courses. This course is not eligible for Credit/D/Fail grading. [3-0-1] Prerequisite: Not open to students with credit for Chemistry 12.  Permission of the department head.',\n",
       "  'prerequisites': [],\n",
       "  'corequisites': [],\n",
       "  'themes': []},\n",
       " {'course_code': 'BIOL 111',\n",
       "  'course_title': 'Introduction to Modern Biology',\n",
       "  'description': 'Concepts fundamental to biological issues, such as the genetic basis of biological variation, evolution, infectious diseases, causes of cancer, population growth, and human effects on ecosystems.  Not open to students who have credit for Biology 12 (including AP, IB). [3-0-0]',\n",
       "  'prerequisites': [],\n",
       "  'corequisites': [],\n",
       "  'themes': []},\n",
       " {'course_code': 'BIOL 112',\n",
       "  'course_title': 'Biology of the Cell',\n",
       "  'description': 'The principles of cellular and molecular biology using bacterial and eukaryotic examples. [3-0-0] Prerequisite: One of CHEM 12, CHEM 100, CHEM 110, CHEM 111 and one of BIOL 11, BIOL 12, BIOL 111.',\n",
       "  'prerequisites': ['CHEM 100', 'CHEM 111', 'BIOL 111'],\n",
       "  'corequisites': [],\n",
       "  'themes': []},\n",
       " {'course_code': 'CHEM 111',\n",
       "  'course_title': 'Structure, Bonding, and Equilibrium in Chemistry',\n",
       "  'description': 'Fundamentals of bonding theories, structural chemistry and equilibrium with applications relevant to modern society. [3-3-1] Prerequisite: Not open to students with credit for CHEM 12. A satisfactory score on the UBC Chemistry Basic Skills Test.',\n",
       "  'prerequisites': [],\n",
       "  'corequisites': [],\n",
       "  'themes': []},\n",
       " {'course_code': 'MICB 203',\n",
       "  'course_title': 'Basic Microbiology Laboratory',\n",
       "  'description': 'Procedures and principles associated with isolation, characterization and handling of microorganisms. Intended for students requiring a basic microbiology laboratory course. [1*-3-1*] Prerequisite: One of BIOL 112, SCIE 001.',\n",
       "  'prerequisites': ['BIOL 112'],\n",
       "  'corequisites': [],\n",
       "  'themes': []}]"
      ]
     },
     "execution_count": 9,
     "metadata": {},
     "output_type": "execute_result"
    }
   ],
   "source": [
    "with open('micb_courses_dependancies_draft.json', 'r') as file:\n",
    "    all_micb_courses = json.load(file)\n",
    "\n",
    "all_micb_courses[:5]"
   ]
  },
  {
   "cell_type": "code",
   "execution_count": 10,
   "metadata": {},
   "outputs": [
    {
     "data": {
      "text/plain": [
       "[{'course_code': 'CHEM 100',\n",
       "  'course_title': 'Foundations of Chemistry',\n",
       "  'description': 'Atomic and molecular properties, chemical reactions, bonding, nomenclature, kinetics, equilibrium processes, acids and bases, oxidation and reduction.  Intended for students who do not receive a satisfactory score on the UBC Chemistry Basic Skills Test, and need to establish a foundation of chemistry skills before proceeding to other first year chemistry courses. This course is not eligible for Credit/D/Fail grading. [3-0-1] Prerequisite: Not open to students with credit for Chemistry 12.  Permission of the department head.',\n",
       "  'prerequisites': [],\n",
       "  'corequisites': [],\n",
       "  'themes': [],\n",
       "  'class_type': None},\n",
       " {'course_code': 'BIOL 111',\n",
       "  'course_title': 'Introduction to Modern Biology',\n",
       "  'description': 'Concepts fundamental to biological issues, such as the genetic basis of biological variation, evolution, infectious diseases, causes of cancer, population growth, and human effects on ecosystems.  Not open to students who have credit for Biology 12 (including AP, IB). [3-0-0]',\n",
       "  'prerequisites': [],\n",
       "  'corequisites': [],\n",
       "  'themes': [],\n",
       "  'class_type': None},\n",
       " {'course_code': 'BIOL 112',\n",
       "  'course_title': 'Biology of the Cell',\n",
       "  'description': 'The principles of cellular and molecular biology using bacterial and eukaryotic examples. [3-0-0] Prerequisite: One of CHEM 12, CHEM 100, CHEM 110, CHEM 111 and one of BIOL 11, BIOL 12, BIOL 111.',\n",
       "  'prerequisites': ['CHEM 100', 'CHEM 111', 'BIOL 111'],\n",
       "  'corequisites': [],\n",
       "  'themes': [],\n",
       "  'class_type': None}]"
      ]
     },
     "execution_count": 10,
     "metadata": {},
     "output_type": "execute_result"
    }
   ],
   "source": [
    "themes_dict = micb_themes.set_index('course_code').to_dict(orient='index')\n",
    "\n",
    "# Update the list of dictionaries\n",
    "for course in all_micb_courses:\n",
    "    course_code = course['course_code']\n",
    "    if course_code in themes_dict:\n",
    "        course['themes'] = themes_dict[course_code]['themes']\n",
    "        course['class_type'] = themes_dict[course_code]['lab/lecture']\n",
    "    else:\n",
    "        course['themes'] = []\n",
    "        course['class_type'] = None\n",
    "\n",
    "all_micb_courses[:3]"
   ]
  },
  {
   "cell_type": "code",
   "execution_count": 11,
   "metadata": {},
   "outputs": [],
   "source": [
    "with open(\"micb_courses_dependancies.json\", \"w\") as file:\n",
    "    json.dump(all_micb_courses, file, indent=4)"
   ]
  }
 ],
 "metadata": {
  "kernelspec": {
   "display_name": "fos-data",
   "language": "python",
   "name": "python3"
  },
  "language_info": {
   "codemirror_mode": {
    "name": "ipython",
    "version": 3
   },
   "file_extension": ".py",
   "mimetype": "text/x-python",
   "name": "python",
   "nbconvert_exporter": "python",
   "pygments_lexer": "ipython3",
   "version": "3.13.2"
  }
 },
 "nbformat": 4,
 "nbformat_minor": 2
}
